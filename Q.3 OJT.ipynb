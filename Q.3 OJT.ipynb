{
 "cells": [
  {
   "cell_type": "raw",
   "id": "95e5cc24-da93-4108-bfc6-9c07d1de2b29",
   "metadata": {},
   "source": [
    "Q3. Singular Value Decomposition (SVD): \n",
    "Perform Singular Value Decomposition on the matrix A obtained in Question 2. Separate and print \n",
    "matrices U, Σ, and 𝑉 . Verify that A equals the product of U, Σ, and 𝑉 . Additionally, find the rank 2 \n",
    "and rank 3 approximations of matrix A. "
   ]
  },
  {
   "cell_type": "code",
   "execution_count": 1,
   "id": "e77d976a-8b7c-4fe7-9063-145b9b0ae691",
   "metadata": {},
   "outputs": [],
   "source": [
    "import numpy as np"
   ]
  },
  {
   "cell_type": "code",
   "execution_count": 2,
   "id": "2fa51ce1-1a05-4c5c-92b6-e257c3520c7a",
   "metadata": {},
   "outputs": [
    {
     "name": "stdout",
     "output_type": "stream",
     "text": [
      "Matrix A\n",
      " [[1 6 6 9 0]\n",
      " [6 4 7 4 7]\n",
      " [1 1 9 8 2]\n",
      " [3 6 6 9 9]\n",
      " [1 5 1 0 5]]\n"
     ]
    }
   ],
   "source": [
    "np.random.seed(17)\n",
    "A=np.random.randint(0,10,size=(5,5))\n",
    "print(\"Matrix A\\n\",A)"
   ]
  },
  {
   "cell_type": "code",
   "execution_count": 14,
   "id": "deb885b3-6407-47a2-aa78-6f32840d09e0",
   "metadata": {},
   "outputs": [
    {
     "name": "stdout",
     "output_type": "stream",
     "text": [
      "Matrix U\n",
      " [[-0.43538398  0.49632843 -0.58070328 -0.44660856 -0.16560004]\n",
      " [-0.4721125  -0.38812273  0.51419293 -0.5454511  -0.25408515]\n",
      " [-0.43510099  0.51476426  0.46255004  0.19367148  0.54244235]\n",
      " [-0.60244294 -0.26490568 -0.19859246  0.66192893 -0.29882872]\n",
      " [-0.18788347 -0.51755345 -0.38078581 -0.16542472  0.7242065 ]]\n",
      "Matrix sigma\n",
      " [25.21604797  9.2542578   5.48110925  3.27423941  1.93557094]\n",
      "Matrix v_transpose\n",
      " [[-0.22598197 -0.37634485 -0.54074855 -0.58334678 -0.41784475]\n",
      " [-0.28418424 -0.24172197  0.30115892  0.50230153 -0.71958758]\n",
      " [ 0.36314568 -0.74079562  0.49364836 -0.22924002  0.15201109]\n",
      " [-0.52081762 -0.46524829 -0.28972128  0.39870352  0.51902804]\n",
      " [-0.68194258  0.18628182  0.53783564 -0.44258809  0.12289018]]\n"
     ]
    }
   ],
   "source": [
    "\n",
    "U,Sigma,Vt=np.linalg.svd(A)\n",
    "\n",
    "print(\"Matrix U\\n\",U)\n",
    "print(\"Matrix sigma\\n\",Sigma)\n",
    "print(\"Matrix v_transpose\\n\",Vt)\n"
   ]
  },
  {
   "cell_type": "code",
   "execution_count": 16,
   "id": "fef5c61b-bfbe-4a2b-a64b-cb78c2b0eb42",
   "metadata": {},
   "outputs": [
    {
     "name": "stdout",
     "output_type": "stream",
     "text": [
      "A is equal to U Sigma V^T\n"
     ]
    }
   ],
   "source": [
    "Sigma_mat = np.diag(Sigma)\n",
    "reconstructed_A = U.dot(Sigma_mat).dot(Vt)\n",
    "is_equal = np.allclose(A, reconstructed_A, atol=tolerance)\n",
    "\n",
    "if is_equal:\n",
    "    print(\"A is equal to U Sigma V^T\")\n",
    "else:\n",
    "    print(\"A is not equal to U Sigma V^T\")"
   ]
  },
  {
   "cell_type": "code",
   "execution_count": 20,
   "id": "9c7d1f76-87a6-463c-8fa7-7bc4c71db9be",
   "metadata": {},
   "outputs": [
    {
     "name": "stdout",
     "output_type": "stream",
     "text": [
      "Rank of matrix A: 5\n"
     ]
    }
   ],
   "source": [
    "rank_A = np.linalg.matrix_rank(A)\n",
    "print(\"Rank of matrix A:\", rank_A)"
   ]
  },
  {
   "cell_type": "code",
   "execution_count": 21,
   "id": "6b47dace-b18b-47b2-991e-119db9eb0d81",
   "metadata": {},
   "outputs": [
    {
     "name": "stdout",
     "output_type": "stream",
     "text": [
      "\n",
      "Rank-2 approximation of matrix A:\n",
      "[[1.17567885 3.02149792 7.31996482 8.71151482 1.28220231]\n",
      " [3.71100228 5.34852858 5.35581069 5.14047289 7.55896893]\n",
      " [1.12558162 2.97757221 7.3674868  8.79304975 1.15645186]\n",
      " [4.12962338 6.30972402 7.47634301 7.63036018 8.11164868]\n",
      " [2.43175112 2.94074599 1.1194702  0.35789962 5.42613142]]\n"
     ]
    }
   ],
   "source": [
    "#Rank 2 Approximation\n",
    "rank_2_A = U[:, :2] @ np.diag(Sigma[:2]) @ Vt[:2, :]\n",
    "print(\"\\nRank-2 approximation of matrix A:\")\n",
    "print(rank_2_A)"
   ]
  },
  {
   "cell_type": "code",
   "execution_count": 22,
   "id": "64a7825a-e718-401f-a68b-dedb85d4e7b1",
   "metadata": {},
   "outputs": [
    {
     "name": "stdout",
     "output_type": "stream",
     "text": [
      "\n",
      "Rank-3 approximation of matrix A:\n",
      "[[0.01982316 5.37937489 5.74873239 9.44116246 0.79836652]\n",
      " [4.73447304 3.26070901 6.74708338 4.49439482 7.98738901]\n",
      " [2.04626024 1.09944248 8.61902721 8.21186043 1.54184363]\n",
      " [3.73433677 7.11608522 6.93900333 7.87988955 7.94618355]\n",
      " [1.67381937 4.48688174 0.08916257 0.83635304 5.10886474]]\n"
     ]
    }
   ],
   "source": [
    "#Rank 3 Approximation\n",
    "rank_3_A = U[:, :3] @ np.diag(Sigma[:3]) @ Vt[:3, :]\n",
    "print(\"\\nRank-3 approximation of matrix A:\")\n",
    "print(rank_3_A)"
   ]
  },
  {
   "cell_type": "code",
   "execution_count": null,
   "id": "d39f58e7-1cdf-40a4-8e7d-64a534d8edd3",
   "metadata": {},
   "outputs": [],
   "source": []
  }
 ],
 "metadata": {
  "kernelspec": {
   "display_name": "Python 3 (ipykernel)",
   "language": "python",
   "name": "python3"
  },
  "language_info": {
   "codemirror_mode": {
    "name": "ipython",
    "version": 3
   },
   "file_extension": ".py",
   "mimetype": "text/x-python",
   "name": "python",
   "nbconvert_exporter": "python",
   "pygments_lexer": "ipython3",
   "version": "3.11.7"
  }
 },
 "nbformat": 4,
 "nbformat_minor": 5
}
